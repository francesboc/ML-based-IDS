{
 "cells": [
  {
   "cell_type": "markdown",
   "metadata": {},
   "source": [
    "# Intrusion Detection System\n",
    "\n",
    "Implementation of an IDS with machine learning techniques, exploiting the public dataset UNSW NB-15"
   ]
  },
  {
   "cell_type": "code",
   "execution_count": 1,
   "metadata": {},
   "outputs": [],
   "source": [
    "import pandas as pd\n",
    "import numpy as np"
   ]
  },
  {
   "cell_type": "markdown",
   "metadata": {},
   "source": [
    "# Dataset exploration and processing\n",
    "The UNSW-NB 15 dataset was created by using different tools that generates a hybrid of realistic normal traffic activities and synthetic attack behaviors in network traffic, that are collected over four different \".csv\" files.\n",
    "\n",
    "Each instance of the dataset is described by 49 features collected in features.csv file. \n",
    "In UNSW-NB 15 there are nine categories of attack types:\n",
    "- `Fuzzers`: Massive input of data\n",
    "- `Analysis:`: Different type of intrusions into web apps\n",
    "- `Backdoor:`: An unauthorized remote access\n",
    "- `DoS:`: Denial of service\n",
    "- `Exploit:`: Activities that uses bug or vulnerabilites to attack\n",
    "- `Generic:`: Attack to block-cipher\n",
    "- `Reconnaissance:`: Probing activities\n",
    "- `Shellcode:`: Used to exploit sw vulnerabilites\n",
    "- `Worm:`: A type of malware"
   ]
  },
  {
   "cell_type": "code",
   "execution_count": 2,
   "metadata": {},
   "outputs": [],
   "source": [
    "# used as reference\n",
    "features = pd.read_csv(\"UNSW-NB15/UNSW-NB15 - CSV Files/UNSW-NB15_features.csv\")\n",
    "features = pd.DataFrame(features)"
   ]
  },
  {
   "cell_type": "code",
   "execution_count": 3,
   "metadata": {},
   "outputs": [
    {
     "data": {
      "text/html": [
       "<div>\n",
       "<style scoped>\n",
       "    .dataframe tbody tr th:only-of-type {\n",
       "        vertical-align: middle;\n",
       "    }\n",
       "\n",
       "    .dataframe tbody tr th {\n",
       "        vertical-align: top;\n",
       "    }\n",
       "\n",
       "    .dataframe thead th {\n",
       "        text-align: right;\n",
       "    }\n",
       "</style>\n",
       "<table border=\"1\" class=\"dataframe\">\n",
       "  <thead>\n",
       "    <tr style=\"text-align: right;\">\n",
       "      <th></th>\n",
       "      <th>No.</th>\n",
       "      <th>Name</th>\n",
       "      <th>Type</th>\n",
       "      <th>Description</th>\n",
       "    </tr>\n",
       "  </thead>\n",
       "  <tbody>\n",
       "    <tr>\n",
       "      <th>0</th>\n",
       "      <td>1</td>\n",
       "      <td>srcip</td>\n",
       "      <td>nominal</td>\n",
       "      <td>Source IP address</td>\n",
       "    </tr>\n",
       "    <tr>\n",
       "      <th>1</th>\n",
       "      <td>2</td>\n",
       "      <td>sport</td>\n",
       "      <td>integer</td>\n",
       "      <td>Source port number</td>\n",
       "    </tr>\n",
       "    <tr>\n",
       "      <th>2</th>\n",
       "      <td>3</td>\n",
       "      <td>dstip</td>\n",
       "      <td>nominal</td>\n",
       "      <td>Destination IP address</td>\n",
       "    </tr>\n",
       "    <tr>\n",
       "      <th>3</th>\n",
       "      <td>4</td>\n",
       "      <td>dsport</td>\n",
       "      <td>integer</td>\n",
       "      <td>Destination port number</td>\n",
       "    </tr>\n",
       "    <tr>\n",
       "      <th>4</th>\n",
       "      <td>5</td>\n",
       "      <td>proto</td>\n",
       "      <td>nominal</td>\n",
       "      <td>Transaction protocol</td>\n",
       "    </tr>\n",
       "    <tr>\n",
       "      <th>5</th>\n",
       "      <td>6</td>\n",
       "      <td>state</td>\n",
       "      <td>nominal</td>\n",
       "      <td>Indicates to the state and its dependent proto...</td>\n",
       "    </tr>\n",
       "    <tr>\n",
       "      <th>6</th>\n",
       "      <td>7</td>\n",
       "      <td>dur</td>\n",
       "      <td>float</td>\n",
       "      <td>Record total duration</td>\n",
       "    </tr>\n",
       "    <tr>\n",
       "      <th>7</th>\n",
       "      <td>8</td>\n",
       "      <td>sbytes</td>\n",
       "      <td>integer</td>\n",
       "      <td>Source to destination transaction bytes</td>\n",
       "    </tr>\n",
       "    <tr>\n",
       "      <th>8</th>\n",
       "      <td>9</td>\n",
       "      <td>dbytes</td>\n",
       "      <td>integer</td>\n",
       "      <td>Destination to source transaction bytes</td>\n",
       "    </tr>\n",
       "    <tr>\n",
       "      <th>9</th>\n",
       "      <td>10</td>\n",
       "      <td>sttl</td>\n",
       "      <td>integer</td>\n",
       "      <td>Source to destination time to live value</td>\n",
       "    </tr>\n",
       "    <tr>\n",
       "      <th>10</th>\n",
       "      <td>11</td>\n",
       "      <td>dttl</td>\n",
       "      <td>integer</td>\n",
       "      <td>Destination to source time to live value</td>\n",
       "    </tr>\n",
       "    <tr>\n",
       "      <th>11</th>\n",
       "      <td>12</td>\n",
       "      <td>sloss</td>\n",
       "      <td>integer</td>\n",
       "      <td>Source packets retransmitted or dropped</td>\n",
       "    </tr>\n",
       "    <tr>\n",
       "      <th>12</th>\n",
       "      <td>13</td>\n",
       "      <td>dloss</td>\n",
       "      <td>integer</td>\n",
       "      <td>Destination packets retransmitted or dropped</td>\n",
       "    </tr>\n",
       "    <tr>\n",
       "      <th>13</th>\n",
       "      <td>14</td>\n",
       "      <td>service</td>\n",
       "      <td>nominal</td>\n",
       "      <td>http, ftp, smtp, ssh, dns, ftp-data ,irc  and ...</td>\n",
       "    </tr>\n",
       "    <tr>\n",
       "      <th>14</th>\n",
       "      <td>15</td>\n",
       "      <td>sload</td>\n",
       "      <td>float</td>\n",
       "      <td>Source bits per second</td>\n",
       "    </tr>\n",
       "    <tr>\n",
       "      <th>15</th>\n",
       "      <td>16</td>\n",
       "      <td>dload</td>\n",
       "      <td>float</td>\n",
       "      <td>Destination bits per second</td>\n",
       "    </tr>\n",
       "    <tr>\n",
       "      <th>16</th>\n",
       "      <td>17</td>\n",
       "      <td>spkts</td>\n",
       "      <td>integer</td>\n",
       "      <td>Source to destination packet count</td>\n",
       "    </tr>\n",
       "    <tr>\n",
       "      <th>17</th>\n",
       "      <td>18</td>\n",
       "      <td>dpkts</td>\n",
       "      <td>integer</td>\n",
       "      <td>Destination to source packet count</td>\n",
       "    </tr>\n",
       "    <tr>\n",
       "      <th>18</th>\n",
       "      <td>19</td>\n",
       "      <td>swin</td>\n",
       "      <td>integer</td>\n",
       "      <td>Source TCP window advertisement value</td>\n",
       "    </tr>\n",
       "    <tr>\n",
       "      <th>19</th>\n",
       "      <td>20</td>\n",
       "      <td>dwin</td>\n",
       "      <td>integer</td>\n",
       "      <td>Destination TCP window advertisement value</td>\n",
       "    </tr>\n",
       "    <tr>\n",
       "      <th>20</th>\n",
       "      <td>21</td>\n",
       "      <td>stcpb</td>\n",
       "      <td>integer</td>\n",
       "      <td>Source TCP base sequence number</td>\n",
       "    </tr>\n",
       "    <tr>\n",
       "      <th>21</th>\n",
       "      <td>22</td>\n",
       "      <td>dtcpb</td>\n",
       "      <td>integer</td>\n",
       "      <td>Destination TCP base sequence number</td>\n",
       "    </tr>\n",
       "    <tr>\n",
       "      <th>22</th>\n",
       "      <td>23</td>\n",
       "      <td>smeansz</td>\n",
       "      <td>integer</td>\n",
       "      <td>Mean of the ?ow packet size transmitted by the...</td>\n",
       "    </tr>\n",
       "    <tr>\n",
       "      <th>23</th>\n",
       "      <td>24</td>\n",
       "      <td>dmeansz</td>\n",
       "      <td>integer</td>\n",
       "      <td>Mean of the ?ow packet size transmitted by the...</td>\n",
       "    </tr>\n",
       "    <tr>\n",
       "      <th>24</th>\n",
       "      <td>25</td>\n",
       "      <td>trans_depth</td>\n",
       "      <td>integer</td>\n",
       "      <td>Represents the pipelined depth into the connec...</td>\n",
       "    </tr>\n",
       "    <tr>\n",
       "      <th>25</th>\n",
       "      <td>26</td>\n",
       "      <td>res_bdy_len</td>\n",
       "      <td>integer</td>\n",
       "      <td>Actual uncompressed content size of the data t...</td>\n",
       "    </tr>\n",
       "    <tr>\n",
       "      <th>26</th>\n",
       "      <td>27</td>\n",
       "      <td>sjit</td>\n",
       "      <td>float</td>\n",
       "      <td>Source jitter (mSec)</td>\n",
       "    </tr>\n",
       "    <tr>\n",
       "      <th>27</th>\n",
       "      <td>28</td>\n",
       "      <td>djit</td>\n",
       "      <td>float</td>\n",
       "      <td>Destination jitter (mSec)</td>\n",
       "    </tr>\n",
       "    <tr>\n",
       "      <th>28</th>\n",
       "      <td>29</td>\n",
       "      <td>stime</td>\n",
       "      <td>timestamp</td>\n",
       "      <td>record start time</td>\n",
       "    </tr>\n",
       "    <tr>\n",
       "      <th>29</th>\n",
       "      <td>30</td>\n",
       "      <td>ltime</td>\n",
       "      <td>timestamp</td>\n",
       "      <td>record last time</td>\n",
       "    </tr>\n",
       "    <tr>\n",
       "      <th>30</th>\n",
       "      <td>31</td>\n",
       "      <td>sintpkt</td>\n",
       "      <td>float</td>\n",
       "      <td>Source interpacket arrival time (mSec)</td>\n",
       "    </tr>\n",
       "    <tr>\n",
       "      <th>31</th>\n",
       "      <td>32</td>\n",
       "      <td>dintpkt</td>\n",
       "      <td>float</td>\n",
       "      <td>Destination interpacket arrival time (mSec)</td>\n",
       "    </tr>\n",
       "    <tr>\n",
       "      <th>32</th>\n",
       "      <td>33</td>\n",
       "      <td>tcprtt</td>\n",
       "      <td>float</td>\n",
       "      <td>TCP connection setup round-trip time, the sum ...</td>\n",
       "    </tr>\n",
       "    <tr>\n",
       "      <th>33</th>\n",
       "      <td>34</td>\n",
       "      <td>synack</td>\n",
       "      <td>float</td>\n",
       "      <td>TCP connection setup time, the time between th...</td>\n",
       "    </tr>\n",
       "    <tr>\n",
       "      <th>34</th>\n",
       "      <td>35</td>\n",
       "      <td>ackdat</td>\n",
       "      <td>float</td>\n",
       "      <td>TCP connection setup time, the time between th...</td>\n",
       "    </tr>\n",
       "    <tr>\n",
       "      <th>35</th>\n",
       "      <td>36</td>\n",
       "      <td>is_sm_ips_ports</td>\n",
       "      <td>binary</td>\n",
       "      <td>If source (1) and destination (3)IP addresses ...</td>\n",
       "    </tr>\n",
       "    <tr>\n",
       "      <th>36</th>\n",
       "      <td>37</td>\n",
       "      <td>ct_state_ttl</td>\n",
       "      <td>integer</td>\n",
       "      <td>No. for each state (6) according to specific r...</td>\n",
       "    </tr>\n",
       "    <tr>\n",
       "      <th>37</th>\n",
       "      <td>38</td>\n",
       "      <td>ct_flw_http_mthd</td>\n",
       "      <td>integer</td>\n",
       "      <td>No. of flows that has methods such as Get and ...</td>\n",
       "    </tr>\n",
       "    <tr>\n",
       "      <th>38</th>\n",
       "      <td>39</td>\n",
       "      <td>is_ftp_login</td>\n",
       "      <td>binary</td>\n",
       "      <td>If the ftp session is accessed by user and pas...</td>\n",
       "    </tr>\n",
       "    <tr>\n",
       "      <th>39</th>\n",
       "      <td>40</td>\n",
       "      <td>ct_ftp_cmd</td>\n",
       "      <td>integer</td>\n",
       "      <td>No of flows that has a command in ftp session.</td>\n",
       "    </tr>\n",
       "    <tr>\n",
       "      <th>40</th>\n",
       "      <td>41</td>\n",
       "      <td>ct_srv_src</td>\n",
       "      <td>integer</td>\n",
       "      <td>No. of connections that contain the same servi...</td>\n",
       "    </tr>\n",
       "    <tr>\n",
       "      <th>41</th>\n",
       "      <td>42</td>\n",
       "      <td>ct_srv_dst</td>\n",
       "      <td>integer</td>\n",
       "      <td>No. of connections that contain the same servi...</td>\n",
       "    </tr>\n",
       "    <tr>\n",
       "      <th>42</th>\n",
       "      <td>43</td>\n",
       "      <td>ct_dst_ltm</td>\n",
       "      <td>integer</td>\n",
       "      <td>No. of connections of the same destination add...</td>\n",
       "    </tr>\n",
       "    <tr>\n",
       "      <th>43</th>\n",
       "      <td>44</td>\n",
       "      <td>ct_src_ ltm</td>\n",
       "      <td>integer</td>\n",
       "      <td>No. of connections of the same source address ...</td>\n",
       "    </tr>\n",
       "    <tr>\n",
       "      <th>44</th>\n",
       "      <td>45</td>\n",
       "      <td>ct_src_dport_ltm</td>\n",
       "      <td>integer</td>\n",
       "      <td>No of connections of the same source address (...</td>\n",
       "    </tr>\n",
       "    <tr>\n",
       "      <th>45</th>\n",
       "      <td>46</td>\n",
       "      <td>ct_dst_sport_ltm</td>\n",
       "      <td>integer</td>\n",
       "      <td>No of connections of the same destination addr...</td>\n",
       "    </tr>\n",
       "    <tr>\n",
       "      <th>46</th>\n",
       "      <td>47</td>\n",
       "      <td>ct_dst_src_ltm</td>\n",
       "      <td>integer</td>\n",
       "      <td>No of connections of the same source (1) and t...</td>\n",
       "    </tr>\n",
       "    <tr>\n",
       "      <th>47</th>\n",
       "      <td>48</td>\n",
       "      <td>attack_cat</td>\n",
       "      <td>nominal</td>\n",
       "      <td>The name of each attack category. In this data...</td>\n",
       "    </tr>\n",
       "    <tr>\n",
       "      <th>48</th>\n",
       "      <td>49</td>\n",
       "      <td>label</td>\n",
       "      <td>binary</td>\n",
       "      <td>0 for normal and 1 for attack records</td>\n",
       "    </tr>\n",
       "  </tbody>\n",
       "</table>\n",
       "</div>"
      ],
      "text/plain": [
       "    No.              Name       Type  \\\n",
       "0     1             srcip    nominal   \n",
       "1     2             sport    integer   \n",
       "2     3             dstip    nominal   \n",
       "3     4            dsport    integer   \n",
       "4     5             proto    nominal   \n",
       "5     6             state    nominal   \n",
       "6     7               dur      float   \n",
       "7     8            sbytes    integer   \n",
       "8     9            dbytes    integer   \n",
       "9    10              sttl    integer   \n",
       "10   11              dttl    integer   \n",
       "11   12             sloss    integer   \n",
       "12   13             dloss    integer   \n",
       "13   14           service    nominal   \n",
       "14   15             sload      float   \n",
       "15   16             dload      float   \n",
       "16   17             spkts    integer   \n",
       "17   18             dpkts    integer   \n",
       "18   19              swin    integer   \n",
       "19   20              dwin    integer   \n",
       "20   21             stcpb    integer   \n",
       "21   22             dtcpb    integer   \n",
       "22   23           smeansz    integer   \n",
       "23   24           dmeansz    integer   \n",
       "24   25       trans_depth    integer   \n",
       "25   26       res_bdy_len    integer   \n",
       "26   27              sjit      float   \n",
       "27   28              djit      float   \n",
       "28   29             stime  timestamp   \n",
       "29   30             ltime  timestamp   \n",
       "30   31           sintpkt      float   \n",
       "31   32           dintpkt      float   \n",
       "32   33            tcprtt      float   \n",
       "33   34            synack      float   \n",
       "34   35            ackdat      float   \n",
       "35   36   is_sm_ips_ports     binary   \n",
       "36   37      ct_state_ttl    integer   \n",
       "37   38  ct_flw_http_mthd    integer   \n",
       "38   39      is_ftp_login     binary   \n",
       "39   40        ct_ftp_cmd    integer   \n",
       "40   41        ct_srv_src    integer   \n",
       "41   42        ct_srv_dst    integer   \n",
       "42   43        ct_dst_ltm    integer   \n",
       "43   44       ct_src_ ltm    integer   \n",
       "44   45  ct_src_dport_ltm    integer   \n",
       "45   46  ct_dst_sport_ltm    integer   \n",
       "46   47    ct_dst_src_ltm    integer   \n",
       "47   48        attack_cat    nominal   \n",
       "48   49             label     binary   \n",
       "\n",
       "                                          Description  \n",
       "0                                   Source IP address  \n",
       "1                                  Source port number  \n",
       "2                              Destination IP address  \n",
       "3                             Destination port number  \n",
       "4                                Transaction protocol  \n",
       "5   Indicates to the state and its dependent proto...  \n",
       "6                               Record total duration  \n",
       "7            Source to destination transaction bytes   \n",
       "8             Destination to source transaction bytes  \n",
       "9           Source to destination time to live value   \n",
       "10           Destination to source time to live value  \n",
       "11           Source packets retransmitted or dropped   \n",
       "12       Destination packets retransmitted or dropped  \n",
       "13  http, ftp, smtp, ssh, dns, ftp-data ,irc  and ...  \n",
       "14                             Source bits per second  \n",
       "15                        Destination bits per second  \n",
       "16                Source to destination packet count   \n",
       "17                 Destination to source packet count  \n",
       "18              Source TCP window advertisement value  \n",
       "19         Destination TCP window advertisement value  \n",
       "20                    Source TCP base sequence number  \n",
       "21               Destination TCP base sequence number  \n",
       "22  Mean of the ?ow packet size transmitted by the...  \n",
       "23  Mean of the ?ow packet size transmitted by the...  \n",
       "24  Represents the pipelined depth into the connec...  \n",
       "25  Actual uncompressed content size of the data t...  \n",
       "26                               Source jitter (mSec)  \n",
       "27                          Destination jitter (mSec)  \n",
       "28                                  record start time  \n",
       "29                                   record last time  \n",
       "30             Source interpacket arrival time (mSec)  \n",
       "31        Destination interpacket arrival time (mSec)  \n",
       "32  TCP connection setup round-trip time, the sum ...  \n",
       "33  TCP connection setup time, the time between th...  \n",
       "34  TCP connection setup time, the time between th...  \n",
       "35  If source (1) and destination (3)IP addresses ...  \n",
       "36  No. for each state (6) according to specific r...  \n",
       "37  No. of flows that has methods such as Get and ...  \n",
       "38  If the ftp session is accessed by user and pas...  \n",
       "39     No of flows that has a command in ftp session.  \n",
       "40  No. of connections that contain the same servi...  \n",
       "41  No. of connections that contain the same servi...  \n",
       "42  No. of connections of the same destination add...  \n",
       "43  No. of connections of the same source address ...  \n",
       "44  No of connections of the same source address (...  \n",
       "45  No of connections of the same destination addr...  \n",
       "46  No of connections of the same source (1) and t...  \n",
       "47  The name of each attack category. In this data...  \n",
       "48              0 for normal and 1 for attack records  "
      ]
     },
     "execution_count": 3,
     "metadata": {},
     "output_type": "execute_result"
    }
   ],
   "source": [
    "makeLowerString = lambda x: x.strip().lower()\n",
    "\n",
    "features['Type'] = features['Type'].apply(makeLowerString)\n",
    "features['Name'] = features['Name'].apply(makeLowerString)\n",
    "features"
   ]
  },
  {
   "cell_type": "markdown",
   "metadata": {},
   "source": [
    "The dataset contains several types of features: nominal, numerical and binary"
   ]
  },
  {
   "cell_type": "code",
   "execution_count": 4,
   "metadata": {},
   "outputs": [],
   "source": [
    "# Retrieving indexies of different types in dataset\n",
    "nominal_idx = features[features.Type==\"nominal\"].index.tolist()\n",
    "binary_idx = features[features.Type==\"binary\"].index.tolist()\n",
    "integer_idx = features[features.Type==\"integer\"].index.tolist()\n",
    "float_idx = features[features.Type==\"float\"].index.tolist()"
   ]
  },
  {
   "cell_type": "code",
   "execution_count": 5,
   "metadata": {},
   "outputs": [
    {
     "name": "stderr",
     "output_type": "stream",
     "text": [
      "/home/fra/.local/lib/python3.9/site-packages/IPython/core/interactiveshell.py:3457: DtypeWarning: Columns (1,3,47) have mixed types.Specify dtype option on import or set low_memory=False.\n",
      "  exec(code_obj, self.user_global_ns, self.user_ns)\n",
      "/home/fra/.local/lib/python3.9/site-packages/IPython/core/interactiveshell.py:3457: DtypeWarning: Columns (3,39,47) have mixed types.Specify dtype option on import or set low_memory=False.\n",
      "  exec(code_obj, self.user_global_ns, self.user_ns)\n"
     ]
    }
   ],
   "source": [
    "# Concatenate the four different dataset\n",
    "df1 = pd.read_csv(\"UNSW-NB15/UNSW-NB15 - CSV Files/UNSW-NB15_1.csv\",header=None)\n",
    "df2 = pd.read_csv(\"UNSW-NB15/UNSW-NB15 - CSV Files/UNSW-NB15_2.csv\",header=None)\n",
    "df3 = pd.read_csv(\"UNSW-NB15/UNSW-NB15 - CSV Files/UNSW-NB15_3.csv\",header=None)\n",
    "df4 = pd.read_csv(\"UNSW-NB15/UNSW-NB15 - CSV Files/UNSW-NB15_4.csv\",header=None)"
   ]
  },
  {
   "cell_type": "code",
   "execution_count": 6,
   "metadata": {},
   "outputs": [],
   "source": [
    "df = pd.concat([df1,df2,df3,df4],ignore_index=True)"
   ]
  },
  {
   "cell_type": "code",
   "execution_count": 7,
   "metadata": {},
   "outputs": [
    {
     "data": {
      "text/plain": [
       "(2540047, 49)"
      ]
     },
     "execution_count": 7,
     "metadata": {},
     "output_type": "execute_result"
    }
   ],
   "source": [
    "# Here the complete dataset\n",
    "df.columns = features.Name\n",
    "df.shape"
   ]
  },
  {
   "cell_type": "code",
   "execution_count": 8,
   "metadata": {},
   "outputs": [
    {
     "data": {
      "text/plain": [
       "Index(['srcip', 'sport', 'dstip', 'dsport', 'proto', 'state', 'dur', 'sbytes',\n",
       "       'dbytes', 'sttl', 'dttl', 'sloss', 'dloss', 'service', 'sload', 'dload',\n",
       "       'spkts', 'dpkts', 'swin', 'dwin', 'stcpb', 'dtcpb', 'smeansz',\n",
       "       'dmeansz', 'trans_depth', 'res_bdy_len', 'sjit', 'djit', 'stime',\n",
       "       'ltime', 'sintpkt', 'dintpkt', 'tcprtt', 'synack', 'ackdat',\n",
       "       'is_sm_ips_ports', 'ct_state_ttl', 'ct_flw_http_mthd', 'is_ftp_login',\n",
       "       'ct_ftp_cmd', 'ct_srv_src', 'ct_srv_dst', 'ct_dst_ltm', 'ct_src_ ltm',\n",
       "       'ct_src_dport_ltm', 'ct_dst_sport_ltm', 'ct_dst_src_ltm', 'attack_cat',\n",
       "       'label'],\n",
       "      dtype='object', name='Name')"
      ]
     },
     "execution_count": 8,
     "metadata": {},
     "output_type": "execute_result"
    }
   ],
   "source": [
    "df.columns"
   ]
  },
  {
   "cell_type": "markdown",
   "metadata": {},
   "source": [
    "## Preprocessing of data within the dataset"
   ]
  },
  {
   "cell_type": "code",
   "execution_count": 9,
   "metadata": {},
   "outputs": [
    {
     "data": {
      "text/plain": [
       "Name\n",
       "srcip                  59.166.0.0\n",
       "sport                        1390\n",
       "dstip               149.171.126.6\n",
       "dsport                         53\n",
       "proto                         udp\n",
       "state                         CON\n",
       "dur                      0.001055\n",
       "sbytes                        132\n",
       "dbytes                        164\n",
       "sttl                           31\n",
       "dttl                           29\n",
       "sloss                           0\n",
       "dloss                           0\n",
       "service                       dns\n",
       "sload                 500473.9375\n",
       "dload                 621800.9375\n",
       "spkts                           2\n",
       "dpkts                           2\n",
       "swin                            0\n",
       "dwin                            0\n",
       "stcpb                           0\n",
       "dtcpb                           0\n",
       "smeansz                        66\n",
       "dmeansz                        82\n",
       "trans_depth                     0\n",
       "res_bdy_len                     0\n",
       "sjit                          0.0\n",
       "djit                          0.0\n",
       "stime                  1421927414\n",
       "ltime                  1421927414\n",
       "sintpkt                     0.017\n",
       "dintpkt                     0.013\n",
       "tcprtt                        0.0\n",
       "synack                        0.0\n",
       "ackdat                        0.0\n",
       "is_sm_ips_ports                 0\n",
       "ct_state_ttl                    0\n",
       "ct_flw_http_mthd              0.0\n",
       "is_ftp_login                  0.0\n",
       "ct_ftp_cmd                      0\n",
       "ct_srv_src                      3\n",
       "ct_srv_dst                      7\n",
       "ct_dst_ltm                      1\n",
       "ct_src_ ltm                     3\n",
       "ct_src_dport_ltm                1\n",
       "ct_dst_sport_ltm                1\n",
       "ct_dst_src_ltm                  1\n",
       "attack_cat                    NaN\n",
       "label                           0\n",
       "Name: 0, dtype: object"
      ]
     },
     "execution_count": 9,
     "metadata": {},
     "output_type": "execute_result"
    }
   ],
   "source": [
    "df.iloc[0]"
   ]
  },
  {
   "cell_type": "code",
   "execution_count": 10,
   "metadata": {},
   "outputs": [
    {
     "data": {
      "text/html": [
       "<div>\n",
       "<style scoped>\n",
       "    .dataframe tbody tr th:only-of-type {\n",
       "        vertical-align: middle;\n",
       "    }\n",
       "\n",
       "    .dataframe tbody tr th {\n",
       "        vertical-align: top;\n",
       "    }\n",
       "\n",
       "    .dataframe thead th {\n",
       "        text-align: right;\n",
       "    }\n",
       "</style>\n",
       "<table border=\"1\" class=\"dataframe\">\n",
       "  <thead>\n",
       "    <tr style=\"text-align: right;\">\n",
       "      <th>Name</th>\n",
       "      <th>srcip</th>\n",
       "      <th>sport</th>\n",
       "      <th>dstip</th>\n",
       "      <th>dsport</th>\n",
       "      <th>proto</th>\n",
       "      <th>state</th>\n",
       "      <th>dur</th>\n",
       "      <th>sbytes</th>\n",
       "      <th>dbytes</th>\n",
       "      <th>sttl</th>\n",
       "      <th>...</th>\n",
       "      <th>ct_ftp_cmd</th>\n",
       "      <th>ct_srv_src</th>\n",
       "      <th>ct_srv_dst</th>\n",
       "      <th>ct_dst_ltm</th>\n",
       "      <th>ct_src_ ltm</th>\n",
       "      <th>ct_src_dport_ltm</th>\n",
       "      <th>ct_dst_sport_ltm</th>\n",
       "      <th>ct_dst_src_ltm</th>\n",
       "      <th>attack_cat</th>\n",
       "      <th>label</th>\n",
       "    </tr>\n",
       "  </thead>\n",
       "  <tbody>\n",
       "    <tr>\n",
       "      <th>0</th>\n",
       "      <td>59.166.0.0</td>\n",
       "      <td>1390</td>\n",
       "      <td>149.171.126.6</td>\n",
       "      <td>53</td>\n",
       "      <td>udp</td>\n",
       "      <td>CON</td>\n",
       "      <td>0.001055</td>\n",
       "      <td>132</td>\n",
       "      <td>164</td>\n",
       "      <td>31</td>\n",
       "      <td>...</td>\n",
       "      <td>0</td>\n",
       "      <td>3</td>\n",
       "      <td>7</td>\n",
       "      <td>1</td>\n",
       "      <td>3</td>\n",
       "      <td>1</td>\n",
       "      <td>1</td>\n",
       "      <td>1</td>\n",
       "      <td>NaN</td>\n",
       "      <td>0</td>\n",
       "    </tr>\n",
       "    <tr>\n",
       "      <th>1</th>\n",
       "      <td>59.166.0.0</td>\n",
       "      <td>33661</td>\n",
       "      <td>149.171.126.9</td>\n",
       "      <td>1024</td>\n",
       "      <td>udp</td>\n",
       "      <td>CON</td>\n",
       "      <td>0.036133</td>\n",
       "      <td>528</td>\n",
       "      <td>304</td>\n",
       "      <td>31</td>\n",
       "      <td>...</td>\n",
       "      <td>0</td>\n",
       "      <td>2</td>\n",
       "      <td>4</td>\n",
       "      <td>2</td>\n",
       "      <td>3</td>\n",
       "      <td>1</td>\n",
       "      <td>1</td>\n",
       "      <td>2</td>\n",
       "      <td>NaN</td>\n",
       "      <td>0</td>\n",
       "    </tr>\n",
       "    <tr>\n",
       "      <th>2</th>\n",
       "      <td>59.166.0.6</td>\n",
       "      <td>1464</td>\n",
       "      <td>149.171.126.7</td>\n",
       "      <td>53</td>\n",
       "      <td>udp</td>\n",
       "      <td>CON</td>\n",
       "      <td>0.001119</td>\n",
       "      <td>146</td>\n",
       "      <td>178</td>\n",
       "      <td>31</td>\n",
       "      <td>...</td>\n",
       "      <td>0</td>\n",
       "      <td>12</td>\n",
       "      <td>8</td>\n",
       "      <td>1</td>\n",
       "      <td>2</td>\n",
       "      <td>2</td>\n",
       "      <td>1</td>\n",
       "      <td>1</td>\n",
       "      <td>NaN</td>\n",
       "      <td>0</td>\n",
       "    </tr>\n",
       "    <tr>\n",
       "      <th>3</th>\n",
       "      <td>59.166.0.5</td>\n",
       "      <td>3593</td>\n",
       "      <td>149.171.126.5</td>\n",
       "      <td>53</td>\n",
       "      <td>udp</td>\n",
       "      <td>CON</td>\n",
       "      <td>0.001209</td>\n",
       "      <td>132</td>\n",
       "      <td>164</td>\n",
       "      <td>31</td>\n",
       "      <td>...</td>\n",
       "      <td>0</td>\n",
       "      <td>6</td>\n",
       "      <td>9</td>\n",
       "      <td>1</td>\n",
       "      <td>1</td>\n",
       "      <td>1</td>\n",
       "      <td>1</td>\n",
       "      <td>1</td>\n",
       "      <td>NaN</td>\n",
       "      <td>0</td>\n",
       "    </tr>\n",
       "    <tr>\n",
       "      <th>4</th>\n",
       "      <td>59.166.0.3</td>\n",
       "      <td>49664</td>\n",
       "      <td>149.171.126.0</td>\n",
       "      <td>53</td>\n",
       "      <td>udp</td>\n",
       "      <td>CON</td>\n",
       "      <td>0.001169</td>\n",
       "      <td>146</td>\n",
       "      <td>178</td>\n",
       "      <td>31</td>\n",
       "      <td>...</td>\n",
       "      <td>0</td>\n",
       "      <td>7</td>\n",
       "      <td>9</td>\n",
       "      <td>1</td>\n",
       "      <td>1</td>\n",
       "      <td>1</td>\n",
       "      <td>1</td>\n",
       "      <td>1</td>\n",
       "      <td>NaN</td>\n",
       "      <td>0</td>\n",
       "    </tr>\n",
       "  </tbody>\n",
       "</table>\n",
       "<p>5 rows × 49 columns</p>\n",
       "</div>"
      ],
      "text/plain": [
       "Name       srcip  sport          dstip dsport proto state       dur  sbytes  \\\n",
       "0     59.166.0.0   1390  149.171.126.6     53   udp   CON  0.001055     132   \n",
       "1     59.166.0.0  33661  149.171.126.9   1024   udp   CON  0.036133     528   \n",
       "2     59.166.0.6   1464  149.171.126.7     53   udp   CON  0.001119     146   \n",
       "3     59.166.0.5   3593  149.171.126.5     53   udp   CON  0.001209     132   \n",
       "4     59.166.0.3  49664  149.171.126.0     53   udp   CON  0.001169     146   \n",
       "\n",
       "Name  dbytes  sttl  ...  ct_ftp_cmd  ct_srv_src  ct_srv_dst ct_dst_ltm  \\\n",
       "0        164    31  ...           0           3           7          1   \n",
       "1        304    31  ...           0           2           4          2   \n",
       "2        178    31  ...           0          12           8          1   \n",
       "3        164    31  ...           0           6           9          1   \n",
       "4        178    31  ...           0           7           9          1   \n",
       "\n",
       "Name  ct_src_ ltm  ct_src_dport_ltm  ct_dst_sport_ltm  ct_dst_src_ltm  \\\n",
       "0               3                 1                 1               1   \n",
       "1               3                 1                 1               2   \n",
       "2               2                 2                 1               1   \n",
       "3               1                 1                 1               1   \n",
       "4               1                 1                 1               1   \n",
       "\n",
       "Name  attack_cat  label  \n",
       "0            NaN      0  \n",
       "1            NaN      0  \n",
       "2            NaN      0  \n",
       "3            NaN      0  \n",
       "4            NaN      0  \n",
       "\n",
       "[5 rows x 49 columns]"
      ]
     },
     "execution_count": 10,
     "metadata": {},
     "output_type": "execute_result"
    }
   ],
   "source": [
    "df.head()"
   ]
  },
  {
   "cell_type": "code",
   "execution_count": 11,
   "metadata": {},
   "outputs": [
    {
     "data": {
      "text/plain": [
       "Generic             215481\n",
       "Exploits             44525\n",
       " Fuzzers             19195\n",
       "DoS                  16353\n",
       " Reconnaissance      12228\n",
       " Fuzzers              5051\n",
       "Analysis              2677\n",
       "Backdoor              1795\n",
       "Reconnaissance        1759\n",
       " Shellcode            1288\n",
       "Backdoors              534\n",
       "Shellcode              223\n",
       "Worms                  174\n",
       "Name: attack_cat, dtype: int64"
      ]
     },
     "execution_count": 11,
     "metadata": {},
     "output_type": "execute_result"
    }
   ],
   "source": [
    "# By executing this we can notice some errors in attack categories. (Like backdoor twice as \"backdoor\" and \"backdoors\")\n",
    "# Also a normal category is missing, that refers to the genuine traffic\n",
    "df.attack_cat.value_counts()"
   ]
  },
  {
   "cell_type": "code",
   "execution_count": 12,
   "metadata": {},
   "outputs": [
    {
     "data": {
      "text/plain": [
       "['ct_flw_http_mthd', 'is_ftp_login', 'attack_cat']"
      ]
     },
     "execution_count": 12,
     "metadata": {},
     "output_type": "execute_result"
    }
   ],
   "source": [
    "# Check for null values\n",
    "df.columns[df.isnull().any()].tolist()"
   ]
  },
  {
   "cell_type": "code",
   "execution_count": 13,
   "metadata": {},
   "outputs": [
    {
     "data": {
      "text/plain": [
       "2218764"
      ]
     },
     "execution_count": 13,
     "metadata": {},
     "output_type": "execute_result"
    }
   ],
   "source": [
    "df.attack_cat.isnull().sum()"
   ]
  },
  {
   "cell_type": "markdown",
   "metadata": {},
   "source": [
    "All null values in *attack_cat* feature correspond to the missing category *normal*"
   ]
  },
  {
   "cell_type": "code",
   "execution_count": 14,
   "metadata": {},
   "outputs": [
    {
     "data": {
      "text/plain": [
       "normal            2218764\n",
       "generic            215481\n",
       "exploits            44525\n",
       "fuzzers             24246\n",
       "dos                 16353\n",
       "reconnaissance      13987\n",
       "analysis             2677\n",
       "backdoor             1795\n",
       "shellcode            1511\n",
       "backdoors             534\n",
       "worms                 174\n",
       "Name: attack_cat, dtype: int64"
      ]
     },
     "execution_count": 14,
     "metadata": {},
     "output_type": "execute_result"
    }
   ],
   "source": [
    "# Since \"normal\" label is missing, let's associate normal to NaN values\n",
    "df.attack_cat = df.attack_cat.fillna(value=\"normal\")\n",
    "\n",
    "# Adjust labels in attack cat\n",
    "df['attack_cat'] = df['attack_cat'].apply(makeLowerString)\n",
    "df.attack_cat.value_counts()\n"
   ]
  },
  {
   "cell_type": "code",
   "execution_count": 15,
   "metadata": {},
   "outputs": [
    {
     "data": {
      "text/plain": [
       "normal            2218764\n",
       "generic            215481\n",
       "exploits            44525\n",
       "fuzzers             24246\n",
       "dos                 16353\n",
       "reconnaissance      13987\n",
       "analysis             2677\n",
       "backdoor             2329\n",
       "shellcode            1511\n",
       "worms                 174\n",
       "Name: attack_cat, dtype: int64"
      ]
     },
     "execution_count": 15,
     "metadata": {},
     "output_type": "execute_result"
    }
   ],
   "source": [
    "df['attack_cat'].replace(\"backdoors\", \"backdoor\", inplace=True)\n",
    "df.attack_cat.value_counts()"
   ]
  },
  {
   "cell_type": "markdown",
   "metadata": {},
   "source": [
    "Now let's adjust the other two columns with null values:\n",
    "- **ct_flw_http_mthd**: No. of flows that has methods such as Get and Post in http service.\n",
    "- **is_ftp_login**: If the ftp session is accessed by user and password then 1 else 0."
   ]
  },
  {
   "cell_type": "code",
   "execution_count": 16,
   "metadata": {},
   "outputs": [
    {
     "data": {
      "text/plain": [
       "['ct_flw_http_mthd', 'is_ftp_login']"
      ]
     },
     "execution_count": 16,
     "metadata": {},
     "output_type": "execute_result"
    }
   ],
   "source": [
    "# Check for null values\n",
    "df.columns[df.isnull().any()].tolist()"
   ]
  },
  {
   "cell_type": "code",
   "execution_count": 17,
   "metadata": {},
   "outputs": [],
   "source": [
    "# Assuming 0 for null values\n",
    "df.ct_flw_http_mthd = df.ct_flw_http_mthd.fillna(value=0)\n",
    "df.is_ftp_login = df.is_ftp_login.fillna(value=0)"
   ]
  },
  {
   "cell_type": "code",
   "execution_count": 18,
   "metadata": {},
   "outputs": [
    {
     "data": {
      "text/plain": [
       "[]"
      ]
     },
     "execution_count": 18,
     "metadata": {},
     "output_type": "execute_result"
    }
   ],
   "source": [
    "# Now all the null values are solved\n",
    "df.columns[df.isnull().any()].tolist()"
   ]
  },
  {
   "cell_type": "code",
   "execution_count": 19,
   "metadata": {},
   "outputs": [
    {
     "data": {
      "text/html": [
       "<div>\n",
       "<style scoped>\n",
       "    .dataframe tbody tr th:only-of-type {\n",
       "        vertical-align: middle;\n",
       "    }\n",
       "\n",
       "    .dataframe tbody tr th {\n",
       "        vertical-align: top;\n",
       "    }\n",
       "\n",
       "    .dataframe thead th {\n",
       "        text-align: right;\n",
       "    }\n",
       "</style>\n",
       "<table border=\"1\" class=\"dataframe\">\n",
       "  <thead>\n",
       "    <tr style=\"text-align: right;\">\n",
       "      <th></th>\n",
       "      <th>No.</th>\n",
       "      <th>Name</th>\n",
       "      <th>Type</th>\n",
       "      <th>Description</th>\n",
       "    </tr>\n",
       "  </thead>\n",
       "  <tbody>\n",
       "    <tr>\n",
       "      <th>38</th>\n",
       "      <td>39</td>\n",
       "      <td>is_ftp_login</td>\n",
       "      <td>binary</td>\n",
       "      <td>If the ftp session is accessed by user and password then 1 else 0.</td>\n",
       "    </tr>\n",
       "  </tbody>\n",
       "</table>\n",
       "</div>"
      ],
      "text/plain": [
       "    No.          Name    Type  \\\n",
       "38   39  is_ftp_login  binary   \n",
       "\n",
       "                                                            Description  \n",
       "38  If the ftp session is accessed by user and password then 1 else 0.   "
      ]
     },
     "execution_count": 19,
     "metadata": {},
     "output_type": "execute_result"
    }
   ],
   "source": [
    "#################################### TO DELETE ####################################\n",
    "pd.set_option('display.max_colwidth', None)\n",
    "features[features.Name==\"ct_flw_http_mthd\"]\n",
    "features[features.Name==\"is_ftp_login\"]"
   ]
  },
  {
   "cell_type": "markdown",
   "metadata": {},
   "source": [
    "Check that all binary variables are in the range [0,1]"
   ]
  },
  {
   "cell_type": "code",
   "execution_count": 20,
   "metadata": {},
   "outputs": [
    {
     "data": {
      "text/html": [
       "<div>\n",
       "<style scoped>\n",
       "    .dataframe tbody tr th:only-of-type {\n",
       "        vertical-align: middle;\n",
       "    }\n",
       "\n",
       "    .dataframe tbody tr th {\n",
       "        vertical-align: top;\n",
       "    }\n",
       "\n",
       "    .dataframe thead th {\n",
       "        text-align: right;\n",
       "    }\n",
       "</style>\n",
       "<table border=\"1\" class=\"dataframe\">\n",
       "  <thead>\n",
       "    <tr style=\"text-align: right;\">\n",
       "      <th></th>\n",
       "      <th>count</th>\n",
       "      <th>mean</th>\n",
       "      <th>std</th>\n",
       "      <th>min</th>\n",
       "      <th>25%</th>\n",
       "      <th>50%</th>\n",
       "      <th>75%</th>\n",
       "      <th>max</th>\n",
       "    </tr>\n",
       "    <tr>\n",
       "      <th>Name</th>\n",
       "      <th></th>\n",
       "      <th></th>\n",
       "      <th></th>\n",
       "      <th></th>\n",
       "      <th></th>\n",
       "      <th></th>\n",
       "      <th></th>\n",
       "      <th></th>\n",
       "    </tr>\n",
       "  </thead>\n",
       "  <tbody>\n",
       "    <tr>\n",
       "      <th>is_sm_ips_ports</th>\n",
       "      <td>2540047.0</td>\n",
       "      <td>0.001652</td>\n",
       "      <td>0.040606</td>\n",
       "      <td>0.0</td>\n",
       "      <td>0.0</td>\n",
       "      <td>0.0</td>\n",
       "      <td>0.0</td>\n",
       "      <td>1.0</td>\n",
       "    </tr>\n",
       "    <tr>\n",
       "      <th>is_ftp_login</th>\n",
       "      <td>2540047.0</td>\n",
       "      <td>0.017351</td>\n",
       "      <td>0.133457</td>\n",
       "      <td>0.0</td>\n",
       "      <td>0.0</td>\n",
       "      <td>0.0</td>\n",
       "      <td>0.0</td>\n",
       "      <td>4.0</td>\n",
       "    </tr>\n",
       "    <tr>\n",
       "      <th>label</th>\n",
       "      <td>2540047.0</td>\n",
       "      <td>0.126487</td>\n",
       "      <td>0.332398</td>\n",
       "      <td>0.0</td>\n",
       "      <td>0.0</td>\n",
       "      <td>0.0</td>\n",
       "      <td>0.0</td>\n",
       "      <td>1.0</td>\n",
       "    </tr>\n",
       "  </tbody>\n",
       "</table>\n",
       "</div>"
      ],
      "text/plain": [
       "                     count      mean       std  min  25%  50%  75%  max\n",
       "Name                                                                   \n",
       "is_sm_ips_ports  2540047.0  0.001652  0.040606  0.0  0.0  0.0  0.0  1.0\n",
       "is_ftp_login     2540047.0  0.017351  0.133457  0.0  0.0  0.0  0.0  4.0\n",
       "label            2540047.0  0.126487  0.332398  0.0  0.0  0.0  0.0  1.0"
      ]
     },
     "execution_count": 20,
     "metadata": {},
     "output_type": "execute_result"
    }
   ],
   "source": [
    "binary_cols = df.columns[binary_idx]\n",
    "df[binary_cols].describe().transpose()"
   ]
  },
  {
   "cell_type": "code",
   "execution_count": 21,
   "metadata": {},
   "outputs": [
    {
     "data": {
      "text/plain": [
       "0.0    2496472\n",
       "1.0      43389\n",
       "4.0        156\n",
       "2.0         30\n",
       "Name: is_ftp_login, dtype: int64"
      ]
     },
     "execution_count": 21,
     "metadata": {},
     "output_type": "execute_result"
    }
   ],
   "source": [
    "# From the features description, is_ftp_login is a binary variable, but we have also non binary values\n",
    "df.is_ftp_login.value_counts()"
   ]
  },
  {
   "cell_type": "code",
   "execution_count": 22,
   "metadata": {},
   "outputs": [
    {
     "data": {
      "text/plain": [
       "count    2.540047e+06\n",
       "mean     1.708197e-02\n",
       "std      1.295769e-01\n",
       "min      0.000000e+00\n",
       "25%      0.000000e+00\n",
       "50%      0.000000e+00\n",
       "75%      0.000000e+00\n",
       "max      1.000000e+00\n",
       "Name: is_ftp_login, dtype: float64"
      ]
     },
     "execution_count": 22,
     "metadata": {},
     "output_type": "execute_result"
    }
   ],
   "source": [
    "# Assume is_ftp_login higer then 1 correspond to binary value 0\n",
    "df['is_ftp_login'].replace(4,0,inplace=True)\n",
    "df['is_ftp_login'].replace(2,0,inplace=True)\n",
    "df.is_ftp_login.describe()"
   ]
  },
  {
   "cell_type": "code",
   "execution_count": 23,
   "metadata": {},
   "outputs": [
    {
     "name": "stdout",
     "output_type": "stream",
     "text": [
      "Index(['srcip', 'sport', 'dstip', 'dsport', 'proto', 'state', 'service',\n",
      "       'ct_ftp_cmd', 'attack_cat'],\n",
      "      dtype='object', name='Name') Index(['srcip', 'dstip', 'proto', 'state', 'service', 'attack_cat'], dtype='object', name='Name')\n"
     ]
    }
   ],
   "source": [
    "# Checking consistency of features.csv columns with dataframe columns\n",
    "df_objcet_cols = df.columns[df.dtypes==\"object\"]\n",
    "nominal_cols = df.columns[nominal_idx]\n",
    "np.array_equal(df_objcet_cols,nominal_cols) # false\n",
    "print(df_objcet_cols,nominal_cols)\n",
    "# Here we can see that there are discrepancies on what nominal features are"
   ]
  },
  {
   "cell_type": "markdown",
   "metadata": {},
   "source": [
    "By analyzing the feature file, the attributes sport, dsport and ct_ftp_cmd should be integer, instead in dataset they appear as nominal variables.\n",
    "\n",
    "Given that the source IP address, source port number, destination IP address, and destination port number are characteristic that are specific to the laboratory environment used in the generation of the dataset, ther are not relevant in the implementation of the IDS."
   ]
  },
  {
   "cell_type": "code",
   "execution_count": 24,
   "metadata": {},
   "outputs": [],
   "source": [
    "features_to_drop = ['srcip', 'sport', 'dstip', 'dsport']\n",
    "df.drop(features_to_drop, axis = 1, inplace=True)"
   ]
  },
  {
   "cell_type": "code",
   "execution_count": 25,
   "metadata": {},
   "outputs": [
    {
     "data": {
      "text/plain": [
       "array([0, 1, 6, 2, 4, 8, 5, 3, '0', '1', ' ', '2', '4'], dtype=object)"
      ]
     },
     "execution_count": 25,
     "metadata": {},
     "output_type": "execute_result"
    }
   ],
   "source": [
    "df.ct_ftp_cmd.unique()"
   ]
  },
  {
   "cell_type": "code",
   "execution_count": 26,
   "metadata": {},
   "outputs": [
    {
     "data": {
      "text/plain": [
       "ct_ftp_cmd  label\n",
       "            0        1132696\n",
       "0           0        1034172\n",
       "            1         297183\n",
       "0           1          22167\n",
       "1           0          21129\n",
       "            0          17039\n",
       "0           0          10159\n",
       "1           1           1861\n",
       "2           0           1234\n",
       "4           0            804\n",
       "3           0            729\n",
       "6           0            332\n",
       "5           0            290\n",
       "4           0            140\n",
       "1           1             48\n",
       "2           0             22\n",
       "8           0             18\n",
       "4           1             16\n",
       "2           1              8\n",
       "dtype: int64"
      ]
     },
     "execution_count": 26,
     "metadata": {},
     "output_type": "execute_result"
    }
   ],
   "source": [
    "df[[\"ct_ftp_cmd\",'label']].value_counts()\n",
    "# the most common label value for missing ct_ftp_cmd is 0, let's asssume 0 for these values, since the real 0 has also 0 in the label"
   ]
  },
  {
   "cell_type": "code",
   "execution_count": 27,
   "metadata": {},
   "outputs": [],
   "source": [
    "df[\"ct_ftp_cmd\"].replace(' ',0,inplace=True)"
   ]
  },
  {
   "cell_type": "code",
   "execution_count": 28,
   "metadata": {},
   "outputs": [],
   "source": [
    "df.ct_ftp_cmd = df.ct_ftp_cmd.astype(int)"
   ]
  },
  {
   "cell_type": "code",
   "execution_count": 29,
   "metadata": {},
   "outputs": [
    {
     "data": {
      "text/plain": [
       "array(['dns', '-', 'http', 'smtp', 'ftp-data', 'ftp', 'ssh', 'pop3',\n",
       "       'snmp', 'ssl', 'irc', 'radius', 'dhcp'], dtype=object)"
      ]
     },
     "execution_count": 29,
     "metadata": {},
     "output_type": "execute_result"
    }
   ],
   "source": [
    "# Let's check consistency of the remaining nominal columns [proto,state,service]\n",
    "df.proto.unique() # no noise detected\n",
    "# In state and service we have 'no' and '-' used when no state or service are detected. Substituting with none such values\n",
    "df.state.unique()\n",
    "df.service.unique() "
   ]
  },
  {
   "cell_type": "code",
   "execution_count": 30,
   "metadata": {},
   "outputs": [],
   "source": [
    "df[\"state\"].replace('no','none',inplace=True)\n",
    "df[\"service\"].replace('-','none',inplace=True)\n",
    "df.state = df.state.apply(makeLowerString)\n",
    "df.service = df.service.apply(makeLowerString)\n"
   ]
  },
  {
   "cell_type": "code",
   "execution_count": null,
   "metadata": {},
   "outputs": [],
   "source": [
    "df.to_csv('foo.csv')"
   ]
  }
 ],
 "metadata": {
  "interpreter": {
   "hash": "83d3692037f018c3b6376bdeb8d98cf5c6c919759e00409d8f399badf4a473f9"
  },
  "kernelspec": {
   "display_name": "Python 3.9.7 64-bit ('aic': conda)",
   "language": "python",
   "name": "python3"
  },
  "language_info": {
   "codemirror_mode": {
    "name": "ipython",
    "version": 3
   },
   "file_extension": ".py",
   "mimetype": "text/x-python",
   "name": "python",
   "nbconvert_exporter": "python",
   "pygments_lexer": "ipython3",
   "version": "3.9.7"
  },
  "orig_nbformat": 4
 },
 "nbformat": 4,
 "nbformat_minor": 2
}
